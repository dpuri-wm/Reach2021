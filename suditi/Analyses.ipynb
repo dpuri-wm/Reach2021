{
 "cells": [
  {
   "cell_type": "code",
   "execution_count": 2,
   "metadata": {},
   "outputs": [],
   "source": [
    "#!pip install sklearn\n",
    "#!pip install -U imbalanced-learn"
   ]
  },
  {
   "cell_type": "code",
   "execution_count": 3,
   "metadata": {},
   "outputs": [],
   "source": [
    "import pandas as pd\n",
    "import numpy as np\n",
    "from sklearn.impute import SimpleImputer\n",
    "from sklearn.linear_model import Ridge\n",
    "from sklearn.model_selection import train_test_split\n",
    "from sklearn.preprocessing import OneHotEncoder\n",
    "from sklearn.model_selection import cross_val_score\n",
    "from sklearn import svm\n",
    "from sklearn.model_selection import ShuffleSplit\n",
    "import matplotlib.pyplot as plt\n",
    "from sklearn.ensemble import RandomForestClassifier\n",
    "from imblearn.over_sampling import SMOTE\n",
    "from sklearn.utils import resample\n",
    "import statistics"
   ]
  },
  {
   "cell_type": "code",
   "execution_count": 4,
   "metadata": {},
   "outputs": [],
   "source": [
    "baselist = []\n",
    "threemonth = []\n",
    "twentyfour = []\n",
    "dupcount = []\n",
    "\n",
    "data = pd.read_csv('updatedspreadnew.csv')\n",
    "\n",
    "for index, row in data.iterrows():\n",
    "    if data.at[index, 'MONTH'] == 0:\n",
    "        baselist.append(row)\n",
    "    if data.at[index, 'MONTH'] == 3:\n",
    "        threemonth.append(row)\n",
    "    if data.at[index, 'MONTH'] == 24:\n",
    "        twentyfour.append(row)\n",
    "baseline = pd.DataFrame(data = baselist)\n",
    "three = pd.DataFrame(data = threemonth)\n",
    "twentyfour1 = pd.DataFrame(data = twentyfour)\n",
    "\n",
    "baseline = baseline.reset_index()\n",
    "three = three.reset_index()\n",
    "twentyfour1 = twentyfour1.reset_index()"
   ]
  },
  {
   "cell_type": "code",
   "execution_count": 5,
   "metadata": {},
   "outputs": [],
   "source": [
    "# checking the percentage of missing values in each variable\n",
    "a = data.isnull().sum()/len(data)*100\n",
    "\n",
    "# saving missing values in a variable\n",
    "# saving column names in a variable\n",
    "variables = data.columns\n",
    "variable = [ ]\n",
    "for i in range(0,376):\n",
    "    if a[i] > 20:   #setting the threshold as 20%\n",
    "       variable.append(variables[i])\n",
    "variable #the ones that have more than 20% missing values\n",
    "baseline = baseline.drop(variable, axis = 1)\n",
    "three = three.drop(variable, axis = 1)\n",
    "twentyfour1 = twentyfour1.drop(variable, axis = 1)\n",
    "newdata = data.drop(variable, axis = 1)\n"
   ]
  },
  {
   "cell_type": "code",
   "execution_count": 6,
   "metadata": {},
   "outputs": [],
   "source": [
    "#finding categorical variables that have values that range from 0-20\n",
    "\n",
    "categ = []  \n",
    "number = []\n",
    "uniqueValues = newdata.nunique() #finds number of unique values in each variable\n",
    "uniqueValues = pd.DataFrame(data = uniqueValues)\n",
    "\n",
    "for index, row in uniqueValues.iterrows():\n",
    "    if uniqueValues.at[index, 0]<= 20:\n",
    "        categ.append(index)\n",
    "    if uniqueValues.at[index, 0] >= 20:\n",
    "         number.append(index)\n",
    "            \n",
    "#creating dataframes with just numerical variables in each df            \n",
    "baselinenum = baseline.drop(categ, axis = 1)\n",
    "threenum = three.drop(categ, axis = 1)\n",
    "twentyfournum = twentyfour1.drop(categ, axis = 1)\n",
    "\n",
    "#dataframes with just categorical variables in each df\n",
    "baselinecat = baseline.drop(number, axis = 1)\n",
    "threecat = three.drop(number, axis = 1)\n",
    "twentyfourcat = twentyfour1.drop(number, axis = 1)\n",
    "\n",
    "\n",
    "#newdata.to_csv('newdata.csv', encoding = 'ISO-8859-1')\n"
   ]
  },
  {
   "cell_type": "code",
   "execution_count": 7,
   "metadata": {},
   "outputs": [],
   "source": [
    "# imputation by mean\n",
    "imp_mean = SimpleImputer(missing_values=np.nan, strategy='mean')\n",
    "\n",
    "# impute by mean numerical values in baseline df\n",
    "for column in number: \n",
    "    if (baseline[column].isnull().values.any()) & (baseline.dtypes[column] != object):\n",
    "        imp_mean.fit(baseline[column].values.reshape(-1,1))\n",
    "        SimpleImputer()\n",
    "        baseline[column] = imp_mean.transform(baseline[[column]].values.reshape(-1,1))\n",
    "        \n",
    "# impute by mean numerical values in three df\n",
    "for column in number: \n",
    "    if (three[column].isnull().values.any()) & (three.dtypes[column] != object):\n",
    "        imp_mean.fit(three[column].values.reshape(-1,1))\n",
    "        SimpleImputer()\n",
    "        three[column] = imp_mean.transform(three[[column]].values.reshape(-1,1))\n",
    "\n",
    "# impute by mean numerical values in twentyfour1 df\n",
    "for column in number: \n",
    "    if (twentyfour1[column].isnull().values.any()) & (twentyfour1.dtypes[column] != object):\n",
    "        imp_mean.fit(three[column].values.reshape(-1,1))\n",
    "        SimpleImputer()\n",
    "        twentyfour1[column] = imp_mean.transform(twentyfour1[[column]].values.reshape(-1,1))"
   ]
  },
  {
   "cell_type": "code",
   "execution_count": 8,
   "metadata": {},
   "outputs": [],
   "source": [
    "# imputation by mode\n",
    "imp_mode = SimpleImputer(missing_values=np.nan, strategy='most_frequent')\n",
    "\n",
    "# impute by mode categorical values in baseline df\n",
    "for column in categ: \n",
    "    if (baseline[column].isnull().values.any()):\n",
    "        imp_mode.fit(baseline[column].values.reshape(-1,1))\n",
    "        SimpleImputer()\n",
    "        baseline[column] = imp_mean.transform(baseline[[column]].values.reshape(-1,1))\n",
    "\n",
    "# impute by mode numerical values in three df\n",
    "for column in categ: \n",
    "    if (three[column].isnull().values.any()):\n",
    "        imp_mode.fit(three[column].values.reshape(-1,1))\n",
    "        SimpleImputer()\n",
    "        three[column] = imp_mean.transform(three[[column]].values.reshape(-1,1))\n",
    "        \n",
    "# impute by mean numerical values in twentyfour1 df\n",
    "for column in categ: \n",
    "    if (twentyfour1[column].isnull().values.any()):\n",
    "        imp_mean.fit(three[column].values.reshape(-1,1))\n",
    "        SimpleImputer()\n",
    "        twentyfour1[column] = imp_mean.transform(twentyfour1[[column]].values.reshape(-1,1))"
   ]
  },
  {
   "cell_type": "code",
   "execution_count": 9,
   "metadata": {},
   "outputs": [],
   "source": [
    "# drop any bad columns \n",
    "\n",
    "baseline_final = baseline.drop(columns = ['DATE_LWHF', 'VISIT_DATE', 'DOB', 'DSCAN'])\n",
    "three_final = three.drop(columns = ['DATE_LWHF', 'VISIT_DATE', 'DOB', 'DSCAN'])\n",
    "twentyfour_final = twentyfour1.drop(columns = ['DATE_LWHF', 'VISIT_DATE', 'DOB', 'DSCAN'])"
   ]
  },
  {
   "cell_type": "code",
   "execution_count": 10,
   "metadata": {},
   "outputs": [],
   "source": [
    "# add label column \n",
    "twentyfour_final['Label'] = 0"
   ]
  },
  {
   "cell_type": "code",
   "execution_count": 11,
   "metadata": {},
   "outputs": [],
   "source": [
    "# if lvef <50, change label to 1\n",
    "for num in range(71):\n",
    "    if twentyfour_final.iloc[num]['vol5_lvef'] < 50:\n",
    "        twentyfour_final.loc[num, 'Label'] = 1"
   ]
  },
  {
   "cell_type": "code",
   "execution_count": 12,
   "metadata": {},
   "outputs": [],
   "source": [
    "# if lvef decrease by 10, change label to 1\n",
    "for num in range(71):\n",
    "    if three_final.iloc[num]['vol5_lvef'] - twentyfour_final.iloc[num]['vol5_lvef'] > 10:\n",
    "        twentyfour_final.loc[num, 'Label'] = 1"
   ]
  },
  {
   "cell_type": "code",
   "execution_count": 13,
   "metadata": {},
   "outputs": [],
   "source": [
    "temp = pd.DataFrame()\n",
    "for i in range(71):\n",
    "    if twentyfour_final.iloc[i]['Label'] == 1:\n",
    "        temp = temp.append(twentyfour_final.iloc[i])\n",
    "        temp = temp.append(twentyfour_final.iloc[i])"
   ]
  },
  {
   "cell_type": "code",
   "execution_count": 14,
   "metadata": {},
   "outputs": [],
   "source": [
    "# confusion matrix funciton\n",
    "def confusionMatrix(predicted, actual, threshold):\n",
    "    if len(predicted) != len(actual): return -1\n",
    "    tp = 0.0\n",
    "    fp = 0.0\n",
    "    tn = 0.0\n",
    "    fn = 0.0\n",
    "    for i in range(len(actual)):\n",
    "        if actual[i] > 0.5: #labels that are 1.0 (positive examples)\n",
    "            if predicted[i] > threshold:\n",
    "                tp += 1.0 #correctly predicted positive\n",
    "            else:\n",
    "                fn += 1.0 #incorrectly predicted negative\n",
    "        else: #labels that are 0.0 (negative examples)\n",
    "            if predicted[i] < threshold:\n",
    "                tn += 1.0 #correctly predicted negative\n",
    "            else:\n",
    "                fp += 1.0 #incorrectly predicted positive\n",
    "    rtn = [tp, tn, fp, fn]\n",
    "    return rtn"
   ]
  },
  {
   "cell_type": "code",
   "execution_count": 15,
   "metadata": {},
   "outputs": [],
   "source": [
    "# normalization function \n",
    "from sklearn.preprocessing import MinMaxScaler\n",
    "def normalize(X_train): \n",
    "    norm = MinMaxScaler().fit(X_train)\n",
    "    X_train_norm = norm.transform(X_train)\n",
    "    return(X_train_norm)"
   ]
  },
  {
   "cell_type": "code",
   "execution_count": 16,
   "metadata": {},
   "outputs": [],
   "source": [
    "# one hot encoding \n",
    "from sklearn.preprocessing import OneHotEncoder\n",
    "def one_hot(X_train): \n",
    "    enc = OneHotEncoder(handle_unknown='ignore')\n",
    "    enc.fit(X_train)\n",
    "    OneHotEncoder(handle_unknown='ignore')\n",
    "    enc.transform(X_train)"
   ]
  },
  {
   "cell_type": "code",
   "execution_count": 17,
   "metadata": {},
   "outputs": [],
   "source": [
    "# Smote\n",
    "#smt = SMOTE()\n",
    "#X_train, y_train = smt.fit_sample(X_train, y_train)"
   ]
  },
  {
   "cell_type": "code",
   "execution_count": 18,
   "metadata": {},
   "outputs": [
    {
     "data": {
      "text/plain": [
       "Text(0, 0.5, 'Label')"
      ]
     },
     "execution_count": 18,
     "metadata": {},
     "output_type": "execute_result"
    },
    {
     "data": {
      "image/png": "[encoded data removed]",
      "text/plain": [
       "<Figure size 432x288 with 1 Axes>"
      ]
     },
     "metadata": {
      "needs_background": "light"
     },
     "output_type": "display_data"
    }
   ],
   "source": [
    "# Visualize 0s vs 1s before model \n",
    "plt.scatter(x = twentyfour_final['vol5_lvef'], y = twentyfour_final['Label'], alpha = .5, color = 'purple')\n",
    "plt.xlabel('24-month LVEF')\n",
    "plt.ylabel('Label')"
   ]
  },
  {
   "cell_type": "code",
   "execution_count": 19,
   "metadata": {},
   "outputs": [
    {
     "data": {
      "text/plain": [
       "52"
      ]
     },
     "execution_count": 19,
     "metadata": {},
     "output_type": "execute_result"
    },
    {
     "data": {
      "image/png": "[encoded data removed]",
      "text/plain": [
       "<Figure size 432x288 with 1 Axes>"
      ]
     },
     "metadata": {},
     "output_type": "display_data"
    }
   ],
   "source": [
    "zero = 0 \n",
    "one = 1\n",
    "for value in twentyfour_final['Label']:\n",
    "    if value ==0: \n",
    "        zero = zero + 1\n",
    "    if value ==1: \n",
    "        one = one +1\n",
    "        \n",
    "sizes = [zero, one]\n",
    "plt.pie(sizes, labels = ['Low Risk (0)', 'High Risk (1)'], colors = ['lightskyblue', 'lightcoral'], autopct='%1.1f%%')\n",
    "zero"
   ]
  },
  {
   "cell_type": "code",
   "execution_count": 20,
   "metadata": {},
   "outputs": [
    {
     "data": {
      "text/html": [
       "<div>\n",
       "<style scoped>\n",
       "    .dataframe tbody tr th:only-of-type {\n",
       "        vertical-align: middle;\n",
       "    }\n",
       "\n",
       "    .dataframe tbody tr th {\n",
       "        vertical-align: top;\n",
       "    }\n",
       "\n",
       "    .dataframe thead th {\n",
       "        text-align: right;\n",
       "    }\n",
       "</style>\n",
       "<table border=\"1\" class=\"dataframe\">\n",
       "  <thead>\n",
       "    <tr style=\"text-align: right;\">\n",
       "      <th></th>\n",
       "      <th>index</th>\n",
       "      <th>Unnamed: 0</th>\n",
       "      <th>MONTH</th>\n",
       "      <th>ID</th>\n",
       "      <th>bsa</th>\n",
       "      <th>mesa</th>\n",
       "      <th>hr_mesa</th>\n",
       "      <th>sys_bp_mesa</th>\n",
       "      <th>dia_bp_mesa</th>\n",
       "      <th>hct</th>\n",
       "      <th>...</th>\n",
       "      <th>pret1_lvmean</th>\n",
       "      <th>pret1_lvseptum</th>\n",
       "      <th>t2_lvmean</th>\n",
       "      <th>t2_meanseptum</th>\n",
       "      <th>BMI</th>\n",
       "      <th>VOL5_SV</th>\n",
       "      <th>QSTRAIN_MEDIS</th>\n",
       "      <th>LIP_MOD_MO</th>\n",
       "      <th>age</th>\n",
       "      <th>Label</th>\n",
       "    </tr>\n",
       "  </thead>\n",
       "  <tbody>\n",
       "    <tr>\n",
       "      <td>0</td>\n",
       "      <td>2</td>\n",
       "      <td>11</td>\n",
       "      <td>24</td>\n",
       "      <td>5</td>\n",
       "      <td>1.904005</td>\n",
       "      <td>1</td>\n",
       "      <td>67.0</td>\n",
       "      <td>117.000000</td>\n",
       "      <td>77.000000</td>\n",
       "      <td>42.7</td>\n",
       "      <td>...</td>\n",
       "      <td>1039.0</td>\n",
       "      <td>1018.0</td>\n",
       "      <td>49.000000</td>\n",
       "      <td>48.50000</td>\n",
       "      <td>30.489624</td>\n",
       "      <td>55.58</td>\n",
       "      <td>-17.200</td>\n",
       "      <td>-17.820871</td>\n",
       "      <td>53</td>\n",
       "      <td>0</td>\n",
       "    </tr>\n",
       "    <tr>\n",
       "      <td>1</td>\n",
       "      <td>5</td>\n",
       "      <td>14</td>\n",
       "      <td>24</td>\n",
       "      <td>6</td>\n",
       "      <td>2.466079</td>\n",
       "      <td>1</td>\n",
       "      <td>65.0</td>\n",
       "      <td>107.106061</td>\n",
       "      <td>64.136364</td>\n",
       "      <td>32.5</td>\n",
       "      <td>...</td>\n",
       "      <td>964.0</td>\n",
       "      <td>959.0</td>\n",
       "      <td>53.000000</td>\n",
       "      <td>53.00000</td>\n",
       "      <td>41.524489</td>\n",
       "      <td>112.32</td>\n",
       "      <td>-15.730</td>\n",
       "      <td>-17.820871</td>\n",
       "      <td>38</td>\n",
       "      <td>0</td>\n",
       "    </tr>\n",
       "    <tr>\n",
       "      <td>3</td>\n",
       "      <td>11</td>\n",
       "      <td>20</td>\n",
       "      <td>24</td>\n",
       "      <td>8</td>\n",
       "      <td>1.835605</td>\n",
       "      <td>1</td>\n",
       "      <td>80.0</td>\n",
       "      <td>99.000000</td>\n",
       "      <td>57.000000</td>\n",
       "      <td>39.1</td>\n",
       "      <td>...</td>\n",
       "      <td>996.0</td>\n",
       "      <td>1013.0</td>\n",
       "      <td>54.000000</td>\n",
       "      <td>53.00000</td>\n",
       "      <td>33.632196</td>\n",
       "      <td>47.62</td>\n",
       "      <td>-23.500</td>\n",
       "      <td>-17.820871</td>\n",
       "      <td>72</td>\n",
       "      <td>0</td>\n",
       "    </tr>\n",
       "    <tr>\n",
       "      <td>4</td>\n",
       "      <td>14</td>\n",
       "      <td>23</td>\n",
       "      <td>24</td>\n",
       "      <td>9</td>\n",
       "      <td>1.608025</td>\n",
       "      <td>1</td>\n",
       "      <td>66.0</td>\n",
       "      <td>105.000000</td>\n",
       "      <td>73.000000</td>\n",
       "      <td>35.9</td>\n",
       "      <td>...</td>\n",
       "      <td>990.0</td>\n",
       "      <td>1005.0</td>\n",
       "      <td>54.000000</td>\n",
       "      <td>52.00000</td>\n",
       "      <td>26.141327</td>\n",
       "      <td>80.40</td>\n",
       "      <td>-24.800</td>\n",
       "      <td>-17.820871</td>\n",
       "      <td>31</td>\n",
       "      <td>0</td>\n",
       "    </tr>\n",
       "    <tr>\n",
       "      <td>5</td>\n",
       "      <td>17</td>\n",
       "      <td>29</td>\n",
       "      <td>24</td>\n",
       "      <td>11</td>\n",
       "      <td>1.791854</td>\n",
       "      <td>1</td>\n",
       "      <td>67.0</td>\n",
       "      <td>111.000000</td>\n",
       "      <td>58.000000</td>\n",
       "      <td>35.8</td>\n",
       "      <td>...</td>\n",
       "      <td>1003.0</td>\n",
       "      <td>1000.0</td>\n",
       "      <td>51.000000</td>\n",
       "      <td>51.00000</td>\n",
       "      <td>33.723987</td>\n",
       "      <td>53.92</td>\n",
       "      <td>-20.300</td>\n",
       "      <td>-17.820871</td>\n",
       "      <td>72</td>\n",
       "      <td>0</td>\n",
       "    </tr>\n",
       "    <tr>\n",
       "      <td>...</td>\n",
       "      <td>...</td>\n",
       "      <td>...</td>\n",
       "      <td>...</td>\n",
       "      <td>...</td>\n",
       "      <td>...</td>\n",
       "      <td>...</td>\n",
       "      <td>...</td>\n",
       "      <td>...</td>\n",
       "      <td>...</td>\n",
       "      <td>...</td>\n",
       "      <td>...</td>\n",
       "      <td>...</td>\n",
       "      <td>...</td>\n",
       "      <td>...</td>\n",
       "      <td>...</td>\n",
       "      <td>...</td>\n",
       "      <td>...</td>\n",
       "      <td>...</td>\n",
       "      <td>...</td>\n",
       "      <td>...</td>\n",
       "      <td>...</td>\n",
       "    </tr>\n",
       "    <tr>\n",
       "      <td>46</td>\n",
       "      <td>140</td>\n",
       "      <td>182</td>\n",
       "      <td>24</td>\n",
       "      <td>81</td>\n",
       "      <td>2.205987</td>\n",
       "      <td>1</td>\n",
       "      <td>63.0</td>\n",
       "      <td>103.000000</td>\n",
       "      <td>59.000000</td>\n",
       "      <td>47.8</td>\n",
       "      <td>...</td>\n",
       "      <td>1014.0</td>\n",
       "      <td>1023.0</td>\n",
       "      <td>49.000000</td>\n",
       "      <td>49.00000</td>\n",
       "      <td>27.545079</td>\n",
       "      <td>53.67</td>\n",
       "      <td>-15.670</td>\n",
       "      <td>-17.820871</td>\n",
       "      <td>53</td>\n",
       "      <td>1</td>\n",
       "    </tr>\n",
       "    <tr>\n",
       "      <td>47</td>\n",
       "      <td>143</td>\n",
       "      <td>185</td>\n",
       "      <td>24</td>\n",
       "      <td>80</td>\n",
       "      <td>1.543845</td>\n",
       "      <td>1</td>\n",
       "      <td>55.0</td>\n",
       "      <td>118.000000</td>\n",
       "      <td>50.000000</td>\n",
       "      <td>39.4</td>\n",
       "      <td>...</td>\n",
       "      <td>1038.0</td>\n",
       "      <td>1051.0</td>\n",
       "      <td>51.000000</td>\n",
       "      <td>50.00000</td>\n",
       "      <td>23.302011</td>\n",
       "      <td>51.96</td>\n",
       "      <td>-22.600</td>\n",
       "      <td>-17.820871</td>\n",
       "      <td>69</td>\n",
       "      <td>1</td>\n",
       "    </tr>\n",
       "    <tr>\n",
       "      <td>26</td>\n",
       "      <td>80</td>\n",
       "      <td>111</td>\n",
       "      <td>24</td>\n",
       "      <td>51</td>\n",
       "      <td>1.930627</td>\n",
       "      <td>1</td>\n",
       "      <td>54.0</td>\n",
       "      <td>106.000000</td>\n",
       "      <td>66.000000</td>\n",
       "      <td>40.0</td>\n",
       "      <td>...</td>\n",
       "      <td>1032.0</td>\n",
       "      <td>1029.0</td>\n",
       "      <td>50.000000</td>\n",
       "      <td>49.50000</td>\n",
       "      <td>29.337703</td>\n",
       "      <td>77.28</td>\n",
       "      <td>-15.900</td>\n",
       "      <td>-17.820871</td>\n",
       "      <td>67</td>\n",
       "      <td>1</td>\n",
       "    </tr>\n",
       "    <tr>\n",
       "      <td>50</td>\n",
       "      <td>152</td>\n",
       "      <td>196</td>\n",
       "      <td>24</td>\n",
       "      <td>86</td>\n",
       "      <td>2.001248</td>\n",
       "      <td>1</td>\n",
       "      <td>69.0</td>\n",
       "      <td>144.000000</td>\n",
       "      <td>86.000000</td>\n",
       "      <td>40.8</td>\n",
       "      <td>...</td>\n",
       "      <td>1074.0</td>\n",
       "      <td>1099.0</td>\n",
       "      <td>51.000000</td>\n",
       "      <td>50.00000</td>\n",
       "      <td>29.136902</td>\n",
       "      <td>71.75</td>\n",
       "      <td>-10.180</td>\n",
       "      <td>-17.820871</td>\n",
       "      <td>59</td>\n",
       "      <td>1</td>\n",
       "    </tr>\n",
       "    <tr>\n",
       "      <td>64</td>\n",
       "      <td>194</td>\n",
       "      <td>254</td>\n",
       "      <td>24</td>\n",
       "      <td>116</td>\n",
       "      <td>1.708224</td>\n",
       "      <td>1</td>\n",
       "      <td>69.0</td>\n",
       "      <td>121.000000</td>\n",
       "      <td>72.000000</td>\n",
       "      <td>38.1</td>\n",
       "      <td>...</td>\n",
       "      <td>933.0</td>\n",
       "      <td>935.0</td>\n",
       "      <td>43.879338</td>\n",
       "      <td>51.97619</td>\n",
       "      <td>25.572947</td>\n",
       "      <td>58.88</td>\n",
       "      <td>-12.542</td>\n",
       "      <td>-17.820871</td>\n",
       "      <td>72</td>\n",
       "      <td>1</td>\n",
       "    </tr>\n",
       "  </tbody>\n",
       "</table>\n",
       "<p>104 rows × 142 columns</p>\n",
       "</div>"
      ],
      "text/plain": [
       "    index  Unnamed: 0  MONTH   ID       bsa  mesa  hr_mesa  sys_bp_mesa  \\\n",
       "0       2          11     24    5  1.904005     1     67.0   117.000000   \n",
       "1       5          14     24    6  2.466079     1     65.0   107.106061   \n",
       "3      11          20     24    8  1.835605     1     80.0    99.000000   \n",
       "4      14          23     24    9  1.608025     1     66.0   105.000000   \n",
       "5      17          29     24   11  1.791854     1     67.0   111.000000   \n",
       "..    ...         ...    ...  ...       ...   ...      ...          ...   \n",
       "46    140         182     24   81  2.205987     1     63.0   103.000000   \n",
       "47    143         185     24   80  1.543845     1     55.0   118.000000   \n",
       "26     80         111     24   51  1.930627     1     54.0   106.000000   \n",
       "50    152         196     24   86  2.001248     1     69.0   144.000000   \n",
       "64    194         254     24  116  1.708224     1     69.0   121.000000   \n",
       "\n",
       "    dia_bp_mesa   hct  ...  pret1_lvmean  pret1_lvseptum  t2_lvmean  \\\n",
       "0     77.000000  42.7  ...        1039.0          1018.0  49.000000   \n",
       "1     64.136364  32.5  ...         964.0           959.0  53.000000   \n",
       "3     57.000000  39.1  ...         996.0          1013.0  54.000000   \n",
       "4     73.000000  35.9  ...         990.0          1005.0  54.000000   \n",
       "5     58.000000  35.8  ...        1003.0          1000.0  51.000000   \n",
       "..          ...   ...  ...           ...             ...        ...   \n",
       "46    59.000000  47.8  ...        1014.0          1023.0  49.000000   \n",
       "47    50.000000  39.4  ...        1038.0          1051.0  51.000000   \n",
       "26    66.000000  40.0  ...        1032.0          1029.0  50.000000   \n",
       "50    86.000000  40.8  ...        1074.0          1099.0  51.000000   \n",
       "64    72.000000  38.1  ...         933.0           935.0  43.879338   \n",
       "\n",
       "    t2_meanseptum        BMI  VOL5_SV  QSTRAIN_MEDIS  LIP_MOD_MO  age  Label  \n",
       "0        48.50000  30.489624    55.58        -17.200  -17.820871   53      0  \n",
       "1        53.00000  41.524489   112.32        -15.730  -17.820871   38      0  \n",
       "3        53.00000  33.632196    47.62        -23.500  -17.820871   72      0  \n",
       "4        52.00000  26.141327    80.40        -24.800  -17.820871   31      0  \n",
       "5        51.00000  33.723987    53.92        -20.300  -17.820871   72      0  \n",
       "..            ...        ...      ...            ...         ...  ...    ...  \n",
       "46       49.00000  27.545079    53.67        -15.670  -17.820871   53      1  \n",
       "47       50.00000  23.302011    51.96        -22.600  -17.820871   69      1  \n",
       "26       49.50000  29.337703    77.28        -15.900  -17.820871   67      1  \n",
       "50       50.00000  29.136902    71.75        -10.180  -17.820871   59      1  \n",
       "64       51.97619  25.572947    58.88        -12.542  -17.820871   72      1  \n",
       "\n",
       "[104 rows x 142 columns]"
      ]
     },
     "execution_count": 20,
     "metadata": {},
     "output_type": "execute_result"
    }
   ],
   "source": [
    "# Separate majority and minority classes\n",
    "df_majority = twentyfour_final[twentyfour_final['Label']==0]\n",
    "df_minority = twentyfour_final[twentyfour_final['Label']==1]\n",
    " \n",
    "# Upsample minority class\n",
    "df_minority_upsampled = resample(df_minority, replace=True,n_samples=52, random_state=123)\n",
    " \n",
    "# Combine majority class with upsampled minority class\n",
    "df_upsampled = pd.concat([df_majority, df_minority_upsampled])\n",
    " \n",
    "# Display new class counts\n",
    "df_upsampled"
   ]
  },
  {
   "cell_type": "code",
   "execution_count": 21,
   "metadata": {},
   "outputs": [],
   "source": [
    "#Penalized Regression Model handling missing values \n",
    "def good():\n",
    "    X = df_upsampled.drop(columns = 'Label').values\n",
    "    y = df_upsampled['Label'].values\n",
    "    X_train, X_test, y_train, y_test = train_test_split(X, y, test_size=0.20)\n",
    "\n",
    "    enc = OneHotEncoder(handle_unknown='ignore')\n",
    "    enc.fit(X_train)\n",
    "    OneHotEncoder(handle_unknown='ignore')\n",
    "    enc.transform(X_train)\n",
    "\n",
    "    model = Ridge()\n",
    "    model.fit(X_train,y_train)\n",
    "    y_predicted = model.predict(X_test)\n",
    "    cm = confusionMatrix(y_predicted, y_test, .5)\n",
    "    accuracy = (cm[0] + cm[1])/ (cm[0] + cm[1] + cm[2] + cm[3])\n",
    "    return(accuracy)\n",
    "total = 0\n",
    "for i in range(100):\n",
    "    total = good() + total\n",
    "avg = total/100\n",
    "avg\n",
    "\n",
    "accuracies_good = []\n",
    "for i in range(100):\n",
    "    accuracies_good.append(good())"
   ]
  },
  {
   "cell_type": "code",
   "execution_count": 22,
   "metadata": {},
   "outputs": [
    {
     "name": "stdout",
     "output_type": "stream",
     "text": [
      "0.827142857142857\n",
      "0.08156490953296143\n"
     ]
    }
   ],
   "source": [
    "res = statistics.pstdev(accuracies_good)\n",
    "print(avg)\n",
    "print(res)"
   ]
  },
  {
   "cell_type": "code",
   "execution_count": 23,
   "metadata": {},
   "outputs": [],
   "source": [
    "#Penalized Regression Model \n",
    "def bad():\n",
    "    X = twentyfour_final.drop(columns = 'Label').values\n",
    "    y = twentyfour_final['Label'].values\n",
    "    X_train, X_test, y_train, y_test = train_test_split(X, y, test_size=0.20)\n",
    "\n",
    "    enc = OneHotEncoder(handle_unknown='ignore')\n",
    "    enc.fit(X_train)\n",
    "    OneHotEncoder(handle_unknown='ignore')\n",
    "    enc.transform(X_train)\n",
    "\n",
    "    model = Ridge()\n",
    "    model.fit(X_train,y_train)\n",
    "    y_predicted = model.predict(X_test)\n",
    "    cm = confusionMatrix(y_predicted, y_test, .5)\n",
    "    accuracy = (cm[0] + cm[1])/ (cm[0] + cm[1] + cm[2] + cm[3])\n",
    "    return(accuracy)\n",
    "\n",
    "total = 0\n",
    "for i in range(100):\n",
    "    total = bad() + total\n",
    "avg = total/100\n",
    "avg\n",
    "\n",
    "accuracies_bad = []\n",
    "for i in range(100):\n",
    "    accuracies_bad.append(bad())"
   ]
  },
  {
   "cell_type": "code",
   "execution_count": 24,
   "metadata": {},
   "outputs": [
    {
     "data": {
      "image/png": "[encoded data removed]",
      "text/plain": [
       "<Figure size 432x288 with 1 Axes>"
      ]
     },
     "metadata": {
      "needs_background": "light"
     },
     "output_type": "display_data"
    }
   ],
   "source": [
    "# Multiple box plots on one Axes\n",
    "fig, ax = plt.subplots()\n",
    "ax.boxplot([accuracies_bad, accuracies_good])\n",
    "plt.xlabel('Distributions Before and After Handling of Missing Data')\n",
    "plt.ylabel('Accuracies')\n",
    "plt.show()"
   ]
  },
  {
   "cell_type": "code",
   "execution_count": 25,
   "metadata": {},
   "outputs": [
    {
     "name": "stdout",
     "output_type": "stream",
     "text": [
      "0.6626666666666665\n",
      "0.08156490953296143\n"
     ]
    }
   ],
   "source": [
    "res = statistics.pstdev(accuracies_good)\n",
    "print(avg)\n",
    "print(res)"
   ]
  },
  {
   "cell_type": "code",
   "execution_count": 26,
   "metadata": {},
   "outputs": [],
   "source": [
    "#Penalized Regression Model \n",
    "X = twentyfour_final.drop(columns = 'Label').values\n",
    "y = twentyfour_final['Label'].values\n",
    "X_train, X_test, y_train, y_test = train_test_split(X, y, test_size=0.20)\n",
    "\n",
    "#sm = SMOTE()\n",
    "#X_train, y_train = smt.fit_sample(X_train, y_train)\n",
    "\n",
    "#sm = SMOTE(random_state=42)\n",
    "#X_res, y_res = sm.fit_resample(X, y)\n",
    "\n",
    "#X_train, y_train = sm.fit_resample(X, y)\n",
    "\n",
    "#One Hot encoding\n",
    "enc = OneHotEncoder(handle_unknown='ignore')\n",
    "enc.fit(X_train)\n",
    "OneHotEncoder(handle_unknown='ignore')\n",
    "enc.transform(X_train)\n",
    "\n",
    "\n",
    "#X_test_norm = norm.transform(X_test)\n",
    "model = Ridge()\n",
    "model.fit(X_train,y_train)\n",
    "y_predicted = model.predict(X_test)\n",
    "#mse = np.mean(np.square(y_test-y_predicted))\n",
    "cm = confusionMatrix(y_predicted, y_test, .5)\n",
    "accuracy = (cm[0] + cm[1])/ (cm[0] + cm[1] + cm[2] + cm[3])"
   ]
  },
  {
   "cell_type": "code",
   "execution_count": 27,
   "metadata": {},
   "outputs": [],
   "source": [
    "#SVM \n",
    "def svm_good():\n",
    "    X = df_upsampled.drop(columns = 'Label').values\n",
    "    y = df_upsampled['Label'].values\n",
    "    X_train, X_test, y_train, y_test = train_test_split(X, y, test_size=0.20)\n",
    "\n",
    "    enc = OneHotEncoder(handle_unknown='ignore')\n",
    "    enc.fit(X_train)\n",
    "    OneHotEncoder(handle_unknown='ignore')\n",
    "    enc.transform(X_train)\n",
    "\n",
    "    clf = svm.SVC(kernel='linear', C = 1)\n",
    "    cv = ShuffleSplit(n_splits=10, test_size=0.1)\n",
    "    scores = cross_val_score(clf, X, y, cv=cv)\n",
    "    return(scores.mean())\n",
    "\n",
    "total = 0\n",
    "for i in range(10):\n",
    "    total = svm_good() + total\n",
    "avg = total/10\n",
    "avg\n",
    "\n",
    "accuracies_good = []\n",
    "for i in range(10):\n",
    "    accuracies_good.append(svm_good())"
   ]
  },
  {
   "cell_type": "code",
   "execution_count": 28,
   "metadata": {},
   "outputs": [
    {
     "name": "stdout",
     "output_type": "stream",
     "text": [
      "0.89\n",
      "0.022563042992710666\n"
     ]
    }
   ],
   "source": [
    "res = statistics.pstdev(accuracies_good)\n",
    "print(avg)\n",
    "print(res)"
   ]
  },
  {
   "cell_type": "code",
   "execution_count": 29,
   "metadata": {},
   "outputs": [
    {
     "data": {
      "text/plain": [
       "0.7125"
      ]
     },
     "execution_count": 29,
     "metadata": {},
     "output_type": "execute_result"
    }
   ],
   "source": [
    "# SVM\n",
    "clf = svm.SVC(kernel='linear', C = 1)\n",
    "cv = ShuffleSplit(n_splits=10, test_size=0.1)\n",
    "scores = cross_val_score(clf, X, y, cv=cv)\n",
    "scores.mean()"
   ]
  },
  {
   "cell_type": "code",
   "execution_count": 30,
   "metadata": {},
   "outputs": [],
   "source": [
    "def accuracy_score(y_test, y_pred):\n",
    "    correct = 0\n",
    "    for num in range(len(y_pred)):\n",
    "        if y_pred[num] == y_test[num]:\n",
    "            correct = correct + 1\n",
    "    return(correct/len(y_pred))"
   ]
  },
  {
   "cell_type": "code",
   "execution_count": 31,
   "metadata": {},
   "outputs": [],
   "source": [
    "#Random Forest \n",
    "def rf_good():\n",
    "    X = df_upsampled.drop(columns = 'Label').values\n",
    "    y = df_upsampled['Label'].values\n",
    "    X_train, X_test, y_train, y_test = train_test_split(X, y, test_size=0.20)\n",
    "\n",
    "    enc = OneHotEncoder(handle_unknown='ignore')\n",
    "    enc.fit(X_train)\n",
    "    OneHotEncoder(handle_unknown='ignore')\n",
    "    enc.transform(X_train)\n",
    "\n",
    "    rf = RandomForestClassifier()\n",
    "    rf.fit(X_train, y_train)\n",
    "    y_pred = rf.predict(X_test)\n",
    "    return(accuracy_score(y_test, y_pred))\n",
    "\n",
    "total = 0\n",
    "for i in range(100):\n",
    "    total = rf_good() + total\n",
    "avg = total/100\n",
    "avg\n",
    "\n",
    "accuracies_good = []\n",
    "for i in range(100):\n",
    "    accuracies_good.append(rf_good())"
   ]
  },
  {
   "cell_type": "code",
   "execution_count": 32,
   "metadata": {},
   "outputs": [
    {
     "name": "stdout",
     "output_type": "stream",
     "text": [
      "0.9333333333333322\n",
      "0.051134520913224006\n"
     ]
    }
   ],
   "source": [
    "res = statistics.pstdev(accuracies_good)\n",
    "print(avg)\n",
    "print(res)"
   ]
  },
  {
   "cell_type": "code",
   "execution_count": 33,
   "metadata": {},
   "outputs": [
    {
     "data": {
      "text/plain": [
       "0.7333333333333333"
      ]
     },
     "execution_count": 33,
     "metadata": {},
     "output_type": "execute_result"
    }
   ],
   "source": [
    "# Random Forest \n",
    "rf = RandomForestClassifier()\n",
    "X_train, X_test, y_train, y_test = train_test_split(X, y, test_size=0.20)\n",
    "rf.fit(X_train, y_train)\n",
    "y_pred = rf.predict(X_test)\n",
    "accuracy_score(y_test, y_pred)"
   ]
  },
  {
   "cell_type": "code",
   "execution_count": 34,
   "metadata": {},
   "outputs": [
    {
     "data": {
      "text/html": [
       "<div>\n",
       "<style scoped>\n",
       "    .dataframe tbody tr th:only-of-type {\n",
       "        vertical-align: middle;\n",
       "    }\n",
       "\n",
       "    .dataframe tbody tr th {\n",
       "        vertical-align: top;\n",
       "    }\n",
       "\n",
       "    .dataframe thead th {\n",
       "        text-align: right;\n",
       "    }\n",
       "</style>\n",
       "<table border=\"1\" class=\"dataframe\">\n",
       "  <thead>\n",
       "    <tr style=\"text-align: right;\">\n",
       "      <th></th>\n",
       "      <th>Predicted: 0</th>\n",
       "      <th>Predicted: 1</th>\n",
       "    </tr>\n",
       "    <tr>\n",
       "      <th></th>\n",
       "      <th></th>\n",
       "      <th></th>\n",
       "    </tr>\n",
       "  </thead>\n",
       "  <tbody>\n",
       "    <tr>\n",
       "      <td>Actual: 0</td>\n",
       "      <td>0.0</td>\n",
       "      <td>3.0</td>\n",
       "    </tr>\n",
       "    <tr>\n",
       "      <td>Actual: 1</td>\n",
       "      <td>3.0</td>\n",
       "      <td>9.0</td>\n",
       "    </tr>\n",
       "  </tbody>\n",
       "</table>\n",
       "</div>"
      ],
      "text/plain": [
       "           Predicted: 0  Predicted: 1\n",
       "                                     \n",
       "Actual: 0           0.0           3.0\n",
       "Actual: 1           3.0           9.0"
      ]
     },
     "execution_count": 34,
     "metadata": {},
     "output_type": "execute_result"
    }
   ],
   "source": [
    "# Visualize Confusion Matrix \n",
    "data = [['Actual: 0', cm[0], cm[2]], ['Actual: 1', cm[3], cm[1]]]\n",
    "conmat = pd.DataFrame(data, columns = ['', 'Predicted: 0', 'Predicted: 1'])\n",
    "conmat.set_index([''])"
   ]
  },
  {
   "cell_type": "code",
   "execution_count": 35,
   "metadata": {},
   "outputs": [
    {
     "data": {
      "text/plain": [
       "19"
      ]
     },
     "execution_count": 35,
     "metadata": {},
     "output_type": "execute_result"
    }
   ],
   "source": [
    "sum = 0\n",
    "for thing in twentyfour_final['Label']:\n",
    "    if thing == 1: \n",
    "        sum = sum + 1\n",
    "sum"
   ]
  },
  {
   "cell_type": "code",
   "execution_count": 36,
   "metadata": {},
   "outputs": [],
   "source": [
    "# stratified splitting \n",
    "# try 90 - 10 split - triple the number of 1s \n",
    "# look at chapter 3 or 4 \n",
    "# maybe get a graph plot on page 36 \n",
    "# function to extract most important features "
   ]
  },
  {
   "cell_type": "code",
   "execution_count": 44,
   "metadata": {},
   "outputs": [],
   "source": [
    "X = twentyfour_final.drop(columns = 'Label')\n",
    "y = twentyfour_final['Label']"
   ]
  },
  {
   "cell_type": "code",
   "execution_count": null,
   "metadata": {},
   "outputs": [],
   "source": []
  },
  {
   "cell_type": "code",
   "execution_count": 47,
   "metadata": {},
   "outputs": [
    {
     "name": "stdout",
     "output_type": "stream",
     "text": [
      "[1.21119420e-02 1.35303802e-02 0.00000000e+00 1.58903666e-02\n",
      " 1.05892135e-02 1.61194807e-03 1.23411463e-02 9.50519675e-03\n",
      " 1.61044248e-02 1.60545714e-02 8.59518875e-03 9.08148488e-03\n",
      " 3.89592276e-03 5.39208419e-03 1.11898387e-02 6.89960131e-03\n",
      " 7.31033756e-03 3.33859254e-03 5.09352640e-03 3.39562284e-03\n",
      " 3.18553146e-03 4.40687808e-03 4.60351690e-03 6.48886630e-03\n",
      " 3.33686311e-03 4.68793758e-03 3.38554783e-03 4.62176289e-03\n",
      " 5.47435591e-03 7.32733415e-03 8.44757216e-03 0.00000000e+00\n",
      " 0.00000000e+00 5.21978022e-05 0.00000000e+00 0.00000000e+00\n",
      " 0.00000000e+00 3.14618449e-03 2.54681510e-03 0.00000000e+00\n",
      " 3.39950142e-03 6.14018886e-03 3.31035389e-03 0.00000000e+00\n",
      " 7.33822236e-03 0.00000000e+00 6.30752875e-03 0.00000000e+00\n",
      " 3.32309612e-03 5.18466341e-04 6.29913654e-04 0.00000000e+00\n",
      " 4.29036522e-03 0.00000000e+00 0.00000000e+00 0.00000000e+00\n",
      " 0.00000000e+00 0.00000000e+00 0.00000000e+00 0.00000000e+00\n",
      " 0.00000000e+00 8.70014326e-03 0.00000000e+00 0.00000000e+00\n",
      " 1.23425150e-02 0.00000000e+00 0.00000000e+00 6.64165584e-05\n",
      " 1.10844970e-02 0.00000000e+00 1.90843184e-02 1.08313138e-02\n",
      " 0.00000000e+00 9.49048252e-03 4.07762013e-03 4.82194080e-03\n",
      " 6.11820047e-03 6.38744173e-03 6.60973682e-03 5.76766064e-03\n",
      " 7.60247745e-03 5.90300106e-03 7.32388447e-03 2.70184449e-03\n",
      " 8.02114798e-03 7.49187143e-03 5.80971187e-03 1.14828584e-02\n",
      " 1.03030028e-02 7.14412777e-03 8.79314349e-03 3.12950281e-03\n",
      " 7.70765910e-03 7.78031130e-03 4.16010928e-03 1.14186618e-02\n",
      " 4.99316780e-03 5.99337914e-03 1.03253105e-02 1.16526879e-02\n",
      " 4.61772583e-03 6.67293233e-04 1.01622214e-02 8.55399014e-03\n",
      " 6.84080616e-03 5.77151512e-03 0.00000000e+00 2.25189048e-03\n",
      " 9.32910519e-03 1.38042500e-02 1.19717154e-03 3.35064773e-03\n",
      " 1.42472415e-02 0.00000000e+00 4.69449322e-03 5.96714466e-03\n",
      " 0.00000000e+00 1.45378671e-03 0.00000000e+00 0.00000000e+00\n",
      " 8.64269171e-03 0.00000000e+00 1.12634190e-02 0.00000000e+00\n",
      " 1.60459295e-02 4.78848257e-02 6.77329641e-02 1.33891624e-02\n",
      " 1.33875009e-02 1.32065209e-02 1.06927513e-02 1.79252338e-02\n",
      " 1.87995836e-02 1.70980870e-02 1.35716711e-02 1.69816252e-02\n",
      " 1.96302395e-02 1.61413833e-02 4.69213699e-02 0.00000000e+00\n",
      " 1.37552205e-02]\n"
     ]
    },
    {
     "data": {
      "image/png": "[encoded data removed]",
      "text/plain": [
       "<Figure size 432x288 with 1 Axes>"
      ]
     },
     "metadata": {
      "needs_background": "light"
     },
     "output_type": "display_data"
    }
   ],
   "source": [
    "from sklearn.ensemble import ExtraTreesClassifier\n",
    "import matplotlib.pyplot as plt\n",
    "model = ExtraTreesClassifier()\n",
    "model.fit(X,y)\n",
    "print(model.feature_importances_) #use inbuilt class feature_importances of tree based classifiers\n",
    "#plot graph of feature importances for better visualization\n",
    "feat_importances = pd.Series(model.feature_importances_, index=X.columns)\n",
    "feat_importances.nlargest(10).plot(kind='barh')\n",
    "plt.show()"
   ]
  },
  {
   "cell_type": "code",
   "execution_count": 52,
   "metadata": {},
   "outputs": [
    {
     "data": {
      "text/plain": [
       "<Figure size 1440x1440 with 0 Axes>"
      ]
     },
     "execution_count": 52,
     "metadata": {},
     "output_type": "execute_result"
    },
    {
     "data": {
      "text/plain": [
       "<Figure size 1440x1440 with 0 Axes>"
      ]
     },
     "metadata": {},
     "output_type": "display_data"
    }
   ],
   "source": [
    "import seaborn as sns\n",
    "#get correlations of each features in dataset\n",
    "corrmat = twentyfour_final.corr()\n",
    "top_corr_features = corrmat.index\n",
    "plt.figure(figsize=(20,20))\n",
    "#plot heat map\n",
    "#g = sns.heatmap(twentyfour_final[top_corr_features].corr(),annot=True,cmap=\"RdYlGn\")"
   ]
  },
  {
   "cell_type": "code",
   "execution_count": null,
   "metadata": {},
   "outputs": [],
   "source": []
  },
  {
   "cell_type": "code",
   "execution_count": null,
   "metadata": {},
   "outputs": [],
   "source": []
  },
  {
   "cell_type": "code",
   "execution_count": null,
   "metadata": {},
   "outputs": [],
   "source": []
  },
  {
   "cell_type": "code",
   "execution_count": null,
   "metadata": {},
   "outputs": [],
   "source": []
  },
  {
   "cell_type": "code",
   "execution_count": null,
   "metadata": {},
   "outputs": [],
   "source": []
  }
 ],
 "metadata": {
  "kernelspec": {
   "display_name": "Python 3",
   "language": "python",
   "name": "python3"
  },
  "language_info": {
   "codemirror_mode": {
    "name": "ipython",
    "version": 3
   },
   "file_extension": ".py",
   "mimetype": "text/x-python",
   "name": "python",
   "nbconvert_exporter": "python",
   "pygments_lexer": "ipython3",
   "version": "3.7.4"
  }
 },
 "nbformat": 4,
 "nbformat_minor": 2
}
